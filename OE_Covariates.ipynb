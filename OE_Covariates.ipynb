{
 "cells": [
  {
   "cell_type": "code",
   "execution_count": 1,
   "metadata": {},
   "outputs": [],
   "source": [
    "import pandas\n",
    "import requests\n",
    "from GIS_Data_Library_ext import *\n",
    "import os\n",
    "from databaseUpdaterGIM import *"
   ]
  },
  {
   "cell_type": "code",
   "execution_count": 2,
   "metadata": {},
   "outputs": [],
   "source": [
    "oe_api_key = os.environ['OE_API_KEY']"
   ]
  },
  {
   "attachments": {},
   "cell_type": "markdown",
   "metadata": {},
   "source": [
    "# Bring in data from OE databanks\n",
    "Find saved databank selections"
   ]
  },
  {
   "cell_type": "code",
   "execution_count": 3,
   "metadata": {},
   "outputs": [],
   "source": [
    "gem_selection = find_selection(oe_api_key, 'PPI_GEM_Q')\n",
    "nac_selection = find_selection(oe_api_key, 'PPI_NAC_Q')\n",
    "gis_selection = find_selection(oe_api_key, 'PPI_GIS_Q')\n",
    "usind_selection = find_selection(oe_api_key, 'PPI_USIND_Q')"
   ]
  },
  {
   "cell_type": "code",
   "execution_count": 4,
   "metadata": {},
   "outputs": [],
   "source": [
    "selections = [gem_selection, nac_selection, gis_selection, usind_selection]\n",
    "databanks = ['gem', 'nac', 'gis', 'usind']"
   ]
  },
  {
   "cell_type": "code",
   "execution_count": 5,
   "metadata": {},
   "outputs": [],
   "source": [
    "selection_dict = dict(zip(databanks, selections))"
   ]
  },
  {
   "attachments": {},
   "cell_type": "markdown",
   "metadata": {},
   "source": [
    "Download databank selections"
   ]
  },
  {
   "cell_type": "code",
   "execution_count": 6,
   "metadata": {},
   "outputs": [],
   "source": [
    "data_main = {}\n",
    "metadata_main = {}\n",
    "\n",
    "for i in selection_dict.keys():\n",
    "    # Pull Global Economic Service data\n",
    "    response = requests.get(\"https://services.oxfordeconomics.com/api/download/\" + selection_dict[i],\n",
    "                            headers = {'Accept' : 'application/json', \n",
    "                                        'API-Key' : oe_api_key,\n",
    "                                        'Content-Type' : 'application/json; charset=utf8'})\n",
    "\n",
    "    data_pull = response.json()\n",
    "\n",
    "    # extract mnemonics, quarterly data and metadata\n",
    "    data = {}\n",
    "    metadata = {}\n",
    "    for j in range(0, len(data_pull)):\n",
    "        vbl = data_pull[j]['VariableCode']\n",
    "        data_ts = data_pull[j]['QuarterlyData']\n",
    "        metadata = data_pull[j]['Metadata']\n",
    "        data[vbl] = data_ts\n",
    "        metadata[vbl] = metadata\n",
    "\n",
    "    data_main[i] = data\n",
    "    metadata_main[i] = metadata"
   ]
  },
  {
   "attachments": {},
   "cell_type": "markdown",
   "metadata": {},
   "source": [
    "Convert to dataframes"
   ]
  },
  {
   "cell_type": "code",
   "execution_count": 7,
   "metadata": {},
   "outputs": [],
   "source": [
    "dataframes = {}"
   ]
  },
  {
   "cell_type": "code",
   "execution_count": 8,
   "metadata": {},
   "outputs": [],
   "source": [
    "for i in data_main.keys():\n",
    "    dataframes[i] = pd.DataFrame(data_main[i])\n",
    "    dataframes[i].index = pd.period_range(start = '1980-01-01', end = '2050-12-31', freq = 'Q')"
   ]
  },
  {
   "cell_type": "code",
   "execution_count": 9,
   "metadata": {},
   "outputs": [
    {
     "name": "stderr",
     "output_type": "stream",
     "text": [
      "C:\\Users\\PETERC~1\\AppData\\Local\\Temp/ipykernel_25572/1966365235.py:8: PerformanceWarning: DataFrame is highly fragmented.  This is usually the result of calling `frame.insert` many times, which has poor performance.  Consider joining all columns at once using pd.concat(axis=1) instead.  To get a de-fragmented frame, use `newframe = frame.copy()`\n",
      "  dataframes['gis']['PM'+i] = dataframes['gis']['PR'+i] / dataframes['gis']['GY'+i+'!']\n",
      "C:\\Users\\PETERC~1\\AppData\\Local\\Temp/ipykernel_25572/1966365235.py:6: PerformanceWarning: DataFrame is highly fragmented.  This is usually the result of calling `frame.insert` many times, which has poor performance.  Consider joining all columns at once using pd.concat(axis=1) instead.  To get a de-fragmented frame, use `newframe = frame.copy()`\n",
      "  dataframes['gis']['PM'+i] = dataframes['gis']['PR'+i] / dataframes['gis']['GY'+'GVA'+'!']\n"
     ]
    }
   ],
   "source": [
    "# calculate profit margin by industy as PRx/GYx!\n",
    "gis_sectors = ['A', 'E', 'EXOIL', 'COAL', 'OTHE', 'OIL', 'M', 'FDBVT', 'FDBV', 'FD', 'BV', 'TOBC', 'TEXT', 'TETEX', 'TECLO', 'TELEA', 'WOOD', 'PAPR', 'PAPB', 'PAPT', 'FCHR', 'FUEL', 'CHEM', 'CHXPHA', 'CHBAS', 'CHAGR', 'CHPNT', 'CHSOP', 'CHOTH', 'CHMMF', 'CHPHA', 'RUBP', 'MINL', 'MLGL', 'MLCER', 'MLCSN', 'BMETP', 'BMET', 'BMIST', 'BMNFR', 'BMCST', 'METP', 'ELO', 'ELC', 'COMP', 'ELEC', 'ELEC32', 'ELCMP', 'ELTEL', 'ELCSM', 'PREC', 'PRMED', 'PROTH', 'ELEC31', 'ELPWR', 'MEDOM', 'ELDIS', 'ELOTH', 'MECH', 'MEGPM', 'MEPWR', 'MEOGN', 'MESPM', 'MEAGR', 'MEMAC', 'MEOTH', 'MEOTHMIN', 'MOTRA', 'MOTR', 'MOVEH', 'MOPRT', 'OTRA', 'OTAER', 'OTNES', 'OTHF', 'OTHM', 'REPAIR', 'U', 'UEGAS', 'ELECTR', 'UGAS', 'UWSWM', 'P', 'C', 'S', 'DTRC', 'DIS', 'DISTR', 'HOTL', 'TRACOM', 'TRA', 'TRALRP', 'TRAW', 'TRAA', 'TRAOTH', 'COM', 'COMPUB', 'COMTEL', 'COMIT', 'FIBU', 'FIN', 'BUS', 'REAL', 'BUSOTH', 'OTH', 'PAD', 'PUBLIC', 'EDUC', 'HEAL', 'OTHS', 'T', 'CONN', 'CON', 'INT', 'INV', 'ENG', 'COND', 'ALL']\n",
    "\n",
    "for i in gis_sectors:\n",
    "    if i == 'ALL':\n",
    "        dataframes['gis']['PM'+i] = dataframes['gis']['PR'+i] / dataframes['gis']['GY'+'GVA'+'!']\n",
    "    else:\n",
    "        dataframes['gis']['PM'+i] = dataframes['gis']['PR'+i] / dataframes['gis']['GY'+i+'!']"
   ]
  },
  {
   "cell_type": "code",
   "execution_count": 10,
   "metadata": {},
   "outputs": [],
   "source": [
    "# for i in dataframes.keys():\n",
    "#     dataframes[i].to_csv(i+\"_covariates.csv\")"
   ]
  },
  {
   "attachments": {},
   "cell_type": "markdown",
   "metadata": {},
   "source": [
    "# Pull COSTx and PENGx variables from the current internal database"
   ]
  },
  {
   "cell_type": "code",
   "execution_count": 11,
   "metadata": {},
   "outputs": [],
   "source": [
    "# dictionary Country : Variables\n",
    "sel_vbls = {'US' : ['PENGIND',\n",
    "                    'COSTBMMET',\n",
    "                    'COSTBMNFR',\n",
    "                    'COSTCHEM',\n",
    "                    'COSTCOM',\n",
    "                    'COSTELC',\n",
    "                    'COSTELEC31',\n",
    "                    'COSTFDBVT',\n",
    "                    'COSTFUEL',\n",
    "                    'COSTMECH',\n",
    "                    'COSTMETP',\n",
    "                    'COSTMINL',\n",
    "                    'COSTMOTR',\n",
    "                    'COSTOTHFMRE',\n",
    "                    'COSTOTHM',\n",
    "                    'COSTOTRA',\n",
    "                    'COSTPAPR',\n",
    "                    'COSTRUBP',\n",
    "                    'COSTTEXT',\n",
    "                    'COSTTOT',\n",
    "                    'COSTTRAA',\n",
    "                    'COSTTRALRP',\n",
    "                    'COSTTRAOTH',\n",
    "                    'COSTTRAW',\n",
    "                    'COSTU',\n",
    "                    'COSTWOOD',\n",
    "                    'PENGTOT',\n",
    "                    'PENGA',\n",
    "                    'PENGBMMET',\n",
    "                    'PENGBMNFR',\n",
    "                    'PENGC',\n",
    "                    'PENGCHEM',\n",
    "                    'PENGCOMMER',\n",
    "                    'PENGE',\n",
    "                    'PENGELECTR',\n",
    "                    'PENGFDBVT',\n",
    "                    'PENGFUEL',\n",
    "                    'PENGMINL',\n",
    "                    'PENGMMAC',\n",
    "                    'PENGMOTH',\n",
    "                    'PENGMOTRA',\n",
    "                    'PENGPAPR',\n",
    "                    'PENGPUBLIC',\n",
    "                    'PENGTEXT',\n",
    "                    'PENGTRAA',\n",
    "                    'PENGTRALRP',\n",
    "                    'PENGTRAOTH',\n",
    "                    'PENGTRAW',\n",
    "                    'PENGUGAS',\n",
    "                    'PENGWOOD']}\n",
    "\n",
    "start = '1980'\n",
    "end = '2050'\n",
    "var = True\n",
    "agg = 'L'"
   ]
  },
  {
   "cell_type": "code",
   "execution_count": 12,
   "metadata": {},
   "outputs": [
    {
     "name": "stdout",
     "output_type": "stream",
     "text": [
      "sel file created in c:\\DSWG_PPI\\Databases\\GIM\\\n"
     ]
    }
   ],
   "source": [
    "cost_peng_df = databaseUpdater(start, end, sel_vbls, var, agg)"
   ]
  },
  {
   "cell_type": "code",
   "execution_count": 13,
   "metadata": {},
   "outputs": [],
   "source": [
    "cost_peng_df.columns = cost_peng_df.loc[2]\n",
    "cost_peng_df = cost_peng_df.drop([0,1,2,3,4,5,6,7,8])"
   ]
  },
  {
   "cell_type": "code",
   "execution_count": 14,
   "metadata": {},
   "outputs": [],
   "source": [
    "cost_peng_df.index = pd.period_range(start=start+'-01-01', end=end+'-12-31', freq='Q')"
   ]
  },
  {
   "cell_type": "code",
   "execution_count": 15,
   "metadata": {},
   "outputs": [],
   "source": [
    "# cost_peng_df.to_csv('cost_peng_covariates.csv')"
   ]
  },
  {
   "attachments": {},
   "cell_type": "markdown",
   "metadata": {},
   "source": [
    "# Combine all covariates files"
   ]
  },
  {
   "cell_type": "code",
   "execution_count": 16,
   "metadata": {},
   "outputs": [],
   "source": [
    "all_covariates = pd.concat([dataframes['gem'],dataframes['nac'],dataframes['usind'],dataframes['gis'],cost_peng_df],axis=1)"
   ]
  },
  {
   "cell_type": "code",
   "execution_count": 17,
   "metadata": {},
   "outputs": [],
   "source": [
    "all_covariates.to_csv('all_covariates.csv')"
   ]
  },
  {
   "cell_type": "code",
   "execution_count": null,
   "metadata": {},
   "outputs": [],
   "source": []
  }
 ],
 "metadata": {
  "kernelspec": {
   "display_name": "Python 3",
   "language": "python",
   "name": "python3"
  },
  "language_info": {
   "codemirror_mode": {
    "name": "ipython",
    "version": 3
   },
   "file_extension": ".py",
   "mimetype": "text/x-python",
   "name": "python",
   "nbconvert_exporter": "python",
   "pygments_lexer": "ipython3",
   "version": "3.10.0"
  },
  "orig_nbformat": 4
 },
 "nbformat": 4,
 "nbformat_minor": 2
}
