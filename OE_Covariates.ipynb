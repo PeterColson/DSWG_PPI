{
 "cells": [
  {
   "cell_type": "code",
   "execution_count": 1,
   "metadata": {},
   "outputs": [],
   "source": [
    "import pandas\n",
    "import requests\n",
    "from GIS_Data_Library_ext import *\n",
    "import os"
   ]
  },
  {
   "cell_type": "code",
   "execution_count": 2,
   "metadata": {},
   "outputs": [],
   "source": [
    "oe_api_key = os.environ['OE_API_KEY']"
   ]
  },
  {
   "attachments": {},
   "cell_type": "markdown",
   "metadata": {},
   "source": [
    "# Bring in data from OE databanks\n",
    "Find saved databank selections"
   ]
  },
  {
   "cell_type": "code",
   "execution_count": 3,
   "metadata": {},
   "outputs": [],
   "source": [
    "gem_selection = find_selection(oe_api_key, 'PPI_GEM_Q')\n",
    "nac_selection = find_selection(oe_api_key, 'PPI_NAC_Q')\n",
    "gis_selection = find_selection(oe_api_key, 'PPI_GIS_Q')\n",
    "usind_selection = find_selection(oe_api_key, 'PPI_USIND_Q')"
   ]
  },
  {
   "cell_type": "code",
   "execution_count": 4,
   "metadata": {},
   "outputs": [],
   "source": [
    "selections = [gem_selection, nac_selection, gis_selection, usind_selection]\n",
    "databanks = ['gem', 'nac', 'gis', 'usind']"
   ]
  },
  {
   "cell_type": "code",
   "execution_count": 5,
   "metadata": {},
   "outputs": [],
   "source": [
    "selection_dict = dict(zip(databanks, selections))"
   ]
  },
  {
   "attachments": {},
   "cell_type": "markdown",
   "metadata": {},
   "source": [
    "Download databank selections"
   ]
  },
  {
   "cell_type": "code",
   "execution_count": 8,
   "metadata": {},
   "outputs": [],
   "source": [
    "data_main = {}\n",
    "metadata_main = {}\n",
    "\n",
    "for i in selection_dict.keys():\n",
    "    # Pull Global Economic Service data\n",
    "    response = requests.get(\"https://services.oxfordeconomics.com/api/download/\" + selection_dict[i],\n",
    "                            headers = {'Accept' : 'application/json', \n",
    "                                        'API-Key' : oe_api_key,\n",
    "                                        'Content-Type' : 'application/json; charset=utf8'})\n",
    "\n",
    "    data_pull = response.json()\n",
    "\n",
    "    # extract mnemonics, quarterly data and metadata\n",
    "    data = {}\n",
    "    metadata = {}\n",
    "    for j in range(0, len(data_pull)):\n",
    "        vbl = data_pull[j]['VariableCode']\n",
    "        data_ts = data_pull[j]['QuarterlyData']\n",
    "        metadata = data_pull[j]['Metadata']\n",
    "        data[vbl] = data_ts\n",
    "        metadata[vbl] = metadata\n",
    "\n",
    "    data_main[i] = data\n",
    "    metadata[i] = metadata"
   ]
  },
  {
   "attachments": {},
   "cell_type": "markdown",
   "metadata": {},
   "source": [
    "Convert to dataframes"
   ]
  },
  {
   "cell_type": "code",
   "execution_count": 11,
   "metadata": {},
   "outputs": [],
   "source": [
    "dataframes = {}"
   ]
  },
  {
   "cell_type": "code",
   "execution_count": 29,
   "metadata": {},
   "outputs": [],
   "source": [
    "for i in data_main.keys():\n",
    "    dataframes[i] = pd.DataFrame(data_main[i], index = pd.period_range(start='1980-01-01', periods = len(list(data_main['nac'].values())[0]), freq='Q'))"
   ]
  },
  {
   "cell_type": "code",
   "execution_count": null,
   "metadata": {},
   "outputs": [],
   "source": []
  }
 ],
 "metadata": {
  "kernelspec": {
   "display_name": "Python 3",
   "language": "python",
   "name": "python3"
  },
  "language_info": {
   "codemirror_mode": {
    "name": "ipython",
    "version": 3
   },
   "file_extension": ".py",
   "mimetype": "text/x-python",
   "name": "python",
   "nbconvert_exporter": "python",
   "pygments_lexer": "ipython3",
   "version": "3.10.0"
  },
  "orig_nbformat": 4
 },
 "nbformat": 4,
 "nbformat_minor": 2
}
