{
 "cells": [
  {
   "attachments": {},
   "cell_type": "markdown",
   "metadata": {},
   "source": [
    "API limitations:\n",
    " - 50 series allowed per pull\n",
    " - 20 years allowed per pull\n",
    " - approx 5000 PPI series with some series having data starting in the 1960s means approx 300 pulls required - 100 for all series, * 3 for 20 year selections out to the 60s"
   ]
  },
  {
   "cell_type": "code",
   "execution_count": 1,
   "metadata": {},
   "outputs": [],
   "source": [
    "import requests\n",
    "import json\n",
    "import pandas as pd\n",
    "from bls_definitions import bls_ppi_codes\n",
    "import datetime"
   ]
  },
  {
   "cell_type": "code",
   "execution_count": 2,
   "metadata": {},
   "outputs": [],
   "source": [
    "key = \"9648e84bbf0f4c38b01689279269a05e\"\n",
    "url = \"https://api.bls.gov/publicAPI/v2/timeseries/data/\"\n",
    "startyear = \"2004\"\n",
    "endyear = \"2023\""
   ]
  },
  {
   "cell_type": "code",
   "execution_count": 3,
   "metadata": {},
   "outputs": [],
   "source": [
    "selection_dict = {\"seriesid\": ['WPUFD4'], \"startyear\":startyear, \"endyear\":endyear, \"registrationkey\" : key}\n",
    "selection = json.dumps(selection_dict)"
   ]
  },
  {
   "cell_type": "code",
   "execution_count": 4,
   "metadata": {},
   "outputs": [],
   "source": [
    "headers = {'Content-type' : 'application/json'}"
   ]
  },
  {
   "cell_type": "code",
   "execution_count": 5,
   "metadata": {},
   "outputs": [],
   "source": [
    "p = requests.post('https://api.bls.gov/publicAPI/v2/timeseries/data/', data=selection, headers=headers)"
   ]
  },
  {
   "cell_type": "code",
   "execution_count": 6,
   "metadata": {},
   "outputs": [],
   "source": [
    "p = p.json()['Results']['series']"
   ]
  },
  {
   "cell_type": "code",
   "execution_count": 7,
   "metadata": {},
   "outputs": [],
   "source": [
    "date_list = [f\"{i['year']}-{i['period'][1:]}-01\" for i in p[0]['data']]"
   ]
  },
  {
   "cell_type": "code",
   "execution_count": 8,
   "metadata": {},
   "outputs": [],
   "source": [
    "df = pd.DataFrame(index = pd.to_datetime(date_list[::-1]))"
   ]
  },
  {
   "cell_type": "code",
   "execution_count": 9,
   "metadata": {},
   "outputs": [],
   "source": [
    "for i in p:\n",
    "    df[i['seriesID']] = pd.Series([j['value'] for j in i['data']]).astype(float).iloc[::-1].values\n"
   ]
  },
  {
   "attachments": {},
   "cell_type": "markdown",
   "metadata": {},
   "source": [
    "Attempt with first 50 codes from bls list"
   ]
  },
  {
   "cell_type": "code",
   "execution_count": null,
   "metadata": {},
   "outputs": [],
   "source": []
  },
  {
   "cell_type": "code",
   "execution_count": 10,
   "metadata": {},
   "outputs": [],
   "source": [
    "codes = list(bls_ppi_codes.keys())[:50]"
   ]
  },
  {
   "cell_type": "code",
   "execution_count": 11,
   "metadata": {},
   "outputs": [],
   "source": [
    "selection_dict = {\"seriesid\": codes, \"startyear\":startyear, \"endyear\":endyear, \"registrationkey\" : key}\n",
    "selection = json.dumps(selection_dict)"
   ]
  },
  {
   "cell_type": "code",
   "execution_count": 12,
   "metadata": {},
   "outputs": [],
   "source": [
    "p = requests.post('https://api.bls.gov/publicAPI/v2/timeseries/data/', data=selection, headers=headers)"
   ]
  },
  {
   "cell_type": "code",
   "execution_count": 13,
   "metadata": {},
   "outputs": [],
   "source": [
    "p = p.json()['Results']['series']"
   ]
  },
  {
   "cell_type": "code",
   "execution_count": 14,
   "metadata": {},
   "outputs": [],
   "source": [
    "# df = pd.DataFrame()\n",
    "data = {}\n",
    "index = {}"
   ]
  },
  {
   "cell_type": "code",
   "execution_count": 15,
   "metadata": {},
   "outputs": [
    {
     "name": "stderr",
     "output_type": "stream",
     "text": [
      "C:\\Users\\PETERC~1\\AppData\\Local\\Temp/ipykernel_18768/2367738971.py:2: DeprecationWarning: The default dtype for empty Series will be 'object' instead of 'float64' in a future version. Specify a dtype explicitly to silence this warning.\n",
      "  data[i['seriesID']] = pd.Series([j['value'] for j in i['data']]).astype(float).iloc[::-1].values\n"
     ]
    }
   ],
   "source": [
    "for i in p:\n",
    "    data[i['seriesID']] = pd.Series([j['value'] for j in i['data']]).astype(float).iloc[::-1].values\n",
    "    index[i['seriesID']] = [f\"{j['year']}-{j['period'][1:]}-01\" for j in i['data']][::-1]\n"
   ]
  },
  {
   "cell_type": "code",
   "execution_count": 16,
   "metadata": {},
   "outputs": [],
   "source": [
    "missing_codes = []\n",
    "for i in p:\n",
    "    if len(i['data']) == 0:\n",
    "        missing_codes.append(i['seriesID'])\n"
   ]
  },
  {
   "cell_type": "code",
   "execution_count": 17,
   "metadata": {},
   "outputs": [],
   "source": [
    "dfs = {}\n",
    "for i in data.keys():\n",
    "    dfs[i] = pd.DataFrame(data = data[i], index = pd.to_datetime(index[i]))"
   ]
  },
  {
   "cell_type": "code",
   "execution_count": 18,
   "metadata": {},
   "outputs": [],
   "source": [
    "final = pd.concat(dfs,axis=1)"
   ]
  },
  {
   "cell_type": "code",
   "execution_count": 19,
   "metadata": {},
   "outputs": [],
   "source": [
    "final.columns = final.columns.get_level_values(0)"
   ]
  },
  {
   "attachments": {},
   "cell_type": "markdown",
   "metadata": {},
   "source": [
    "50 codes over three 20 year windows"
   ]
  },
  {
   "cell_type": "code",
   "execution_count": 20,
   "metadata": {},
   "outputs": [],
   "source": [
    "endyear = datetime.datetime.now().year\n",
    "\n",
    "date_ranges = {0 : (endyear-19, endyear),\n",
    "               1 : (endyear-39, endyear-20),\n",
    "               2 : (endyear-59, endyear-40)}\n",
    "\n",
    "codes = list(bls_ppi_codes.keys())[:50]"
   ]
  },
  {
   "cell_type": "code",
   "execution_count": 21,
   "metadata": {},
   "outputs": [
    {
     "name": "stderr",
     "output_type": "stream",
     "text": [
      "C:\\Users\\PETERC~1\\AppData\\Local\\Temp/ipykernel_18768/3555069627.py:19: DeprecationWarning: The default dtype for empty Series will be 'object' instead of 'float64' in a future version. Specify a dtype explicitly to silence this warning.\n",
      "  data[j['seriesID']] = pd.Series([k['value'] for k in j['data']]).astype(float).iloc[::-1].values\n"
     ]
    }
   ],
   "source": [
    "dfs_diff_periods = {}\n",
    "missing_series = {}\n",
    "\n",
    "for i in date_ranges:\n",
    "    # create variable selection dictionary\n",
    "    selection_dict = {\"seriesid\": codes, \"startyear\":date_ranges[i][0], \"endyear\":date_ranges[i][1], \"registrationkey\" : key}\n",
    "    selection = json.dumps(selection_dict)\n",
    "    \n",
    "    # send request to BLS\n",
    "    p = requests.post('https://api.bls.gov/publicAPI/v2/timeseries/data/', data=selection, headers=headers)\n",
    "    p = p.json()['Results']['series']\n",
    "    \n",
    "    # create dictionaries to hold values and index\n",
    "    data = {}\n",
    "    index = {}\n",
    "    \n",
    "    # save time series and index for each variable\n",
    "    for j in p:\n",
    "        data[j['seriesID']] = pd.Series([k['value'] for k in j['data']]).astype(float).iloc[::-1].values\n",
    "        index[j['seriesID']] = [f\"{k['year']}-{k['period'][1:]}-01\" for k in j['data']][::-1]\n",
    "    \n",
    "    # identify where codes are missing in each period window\n",
    "    missing_codes = []\n",
    "    for j in p:\n",
    "        if len(j['data']) == 0:\n",
    "            missing_codes.append(j['seriesID'])\n",
    "    missing_series[i] = missing_codes\n",
    "\n",
    "    # convert series into dataframes and then combine into one dataframe for the period window\n",
    "    dfs = {}\n",
    "    for j in data.keys():\n",
    "        dfs[j] = pd.DataFrame(data = data[j], index = pd.to_datetime(index[j]))\n",
    "\n",
    "    final = pd.concat(dfs,axis=1)\n",
    "    final.columns = final.columns.get_level_values(0)\n",
    "\n",
    "    dfs_diff_periods[i] = final\n"
   ]
  },
  {
   "cell_type": "code",
   "execution_count": 22,
   "metadata": {},
   "outputs": [],
   "source": [
    "full_df = pd.concat(dfs_diff_periods)"
   ]
  },
  {
   "cell_type": "code",
   "execution_count": 23,
   "metadata": {},
   "outputs": [],
   "source": [
    "full_df.index = full_df.index.droplevel(0)"
   ]
  },
  {
   "cell_type": "code",
   "execution_count": 24,
   "metadata": {},
   "outputs": [],
   "source": [
    "full_df = full_df.sort_index()"
   ]
  },
  {
   "cell_type": "code",
   "execution_count": 26,
   "metadata": {},
   "outputs": [],
   "source": [
    "full_df.to_csv('test.csv')"
   ]
  },
  {
   "cell_type": "code",
   "execution_count": 40,
   "metadata": {},
   "outputs": [
    {
     "ename": "TypeError",
     "evalue": "descriptor 'intersection' for 'set' objects doesn't apply to a 'dict_values' object",
     "output_type": "error",
     "traceback": [
      "\u001b[1;31m---------------------------------------------------------------------------\u001b[0m",
      "\u001b[1;31mTypeError\u001b[0m                                 Traceback (most recent call last)",
      "\u001b[1;32mC:\\Users\\PETERC~1\\AppData\\Local\\Temp/ipykernel_18768/1430587017.py\u001b[0m in \u001b[0;36m<module>\u001b[1;34m\u001b[0m\n\u001b[1;32m----> 1\u001b[1;33m \u001b[0mset\u001b[0m\u001b[1;33m.\u001b[0m\u001b[0mintersection\u001b[0m\u001b[1;33m(\u001b[0m\u001b[0mmissing_series\u001b[0m\u001b[1;33m.\u001b[0m\u001b[0mvalues\u001b[0m\u001b[1;33m(\u001b[0m\u001b[1;33m)\u001b[0m\u001b[1;33m)\u001b[0m\u001b[1;33m\u001b[0m\u001b[1;33m\u001b[0m\u001b[0m\n\u001b[0m",
      "\u001b[1;31mTypeError\u001b[0m: descriptor 'intersection' for 'set' objects doesn't apply to a 'dict_values' object"
     ]
    }
   ],
   "source": [
    "set.intersection(missing_series.values())"
   ]
  },
  {
   "cell_type": "code",
   "execution_count": 39,
   "metadata": {},
   "outputs": [
    {
     "data": {
      "text/plain": [
       "[['PCU113310113310MM',\n",
       "  'PCU211111211111S',\n",
       "  'PCU212111212111',\n",
       "  'PCU2121112121111',\n",
       "  'PCU21211121211111',\n",
       "  'PCU21211121211112',\n",
       "  'PCU2121112121113',\n",
       "  'PCU21211121211131',\n",
       "  'PCU21211121211135',\n",
       "  'PCU212111212111P',\n",
       "  'PCU212112212112',\n",
       "  'PCU2121122121121',\n",
       "  'PCU2121122121123',\n",
       "  'PCU21211221211231',\n",
       "  'PCU21211221211232'],\n",
       " ['PCUAMUM--AMUM--',\n",
       "  'PCUATRADEATRADE',\n",
       "  'PCUAWHLTRAWHLTR',\n",
       "  'PCUARETTRARETTR',\n",
       "  'PCUATRNWRATRNWR',\n",
       "  'PCUATRANSATRANS',\n",
       "  'PCUADLVWRADLVWR',\n",
       "  'PCUATTDSVATTDSV',\n",
       "  'PCUAINFO-AINFO-',\n",
       "  'PCUASHC--ASHC--',\n",
       "  'PCUASTDSVASTDSV',\n",
       "  'PCU211111211111S',\n",
       "  'PCU212111212111',\n",
       "  'PCU2121112121111',\n",
       "  'PCU21211121211111',\n",
       "  'PCU21211121211112',\n",
       "  'PCU2121112121113',\n",
       "  'PCU21211121211131',\n",
       "  'PCU21211121211135',\n",
       "  'PCU212111212111P',\n",
       "  'PCU212112212112',\n",
       "  'PCU2121122121121',\n",
       "  'PCU2121122121123',\n",
       "  'PCU21211221211231',\n",
       "  'PCU21211221211232'],\n",
       " ['PCUAMUM--AMUM--',\n",
       "  'PCUOMIN--OMIN--',\n",
       "  'PCUOMFG--OMFG--',\n",
       "  'PCUATRADEATRADE',\n",
       "  'PCUAWHLTRAWHLTR',\n",
       "  'PCUARETTRARETTR',\n",
       "  'PCUATRNWRATRNWR',\n",
       "  'PCUATRANSATRANS',\n",
       "  'PCUADLVWRADLVWR',\n",
       "  'PCUATTDSVATTDSV',\n",
       "  'PCUAINFO-AINFO-',\n",
       "  'PCUASHC--ASHC--',\n",
       "  'PCUASTDSVASTDSV',\n",
       "  'PCU113310113310M',\n",
       "  'PCU113310113310MM',\n",
       "  'PCU211---211---',\n",
       "  'PCU2111--2111--',\n",
       "  'PCU211111211111',\n",
       "  'PCU2111112111111',\n",
       "  'PCU211111211111P',\n",
       "  'PCU211111211111S',\n",
       "  'PCU211112211112',\n",
       "  'PCU2111122111121',\n",
       "  'PCU21111221111211',\n",
       "  'PCU21111221111212',\n",
       "  'PCU21111221111213',\n",
       "  'PCU21111221111214',\n",
       "  'PCU211112211112P',\n",
       "  'PCU212---212---',\n",
       "  'PCU2121--2121--',\n",
       "  'PCU21211-21211-',\n",
       "  'PCU212111212111',\n",
       "  'PCU2121112121111',\n",
       "  'PCU21211121211111',\n",
       "  'PCU21211121211112',\n",
       "  'PCU2121112121113',\n",
       "  'PCU21211121211131',\n",
       "  'PCU21211121211135',\n",
       "  'PCU212111212111P',\n",
       "  'PCU212112212112',\n",
       "  'PCU2121122121121',\n",
       "  'PCU2121122121123',\n",
       "  'PCU21211221211231',\n",
       "  'PCU21211221211232']]"
      ]
     },
     "execution_count": 39,
     "metadata": {},
     "output_type": "execute_result"
    }
   ],
   "source": [
    "list(missing_series.values())"
   ]
  },
  {
   "cell_type": "code",
   "execution_count": null,
   "metadata": {},
   "outputs": [],
   "source": []
  }
 ],
 "metadata": {
  "kernelspec": {
   "display_name": "Python 3",
   "language": "python",
   "name": "python3"
  },
  "language_info": {
   "codemirror_mode": {
    "name": "ipython",
    "version": 3
   },
   "file_extension": ".py",
   "mimetype": "text/x-python",
   "name": "python",
   "nbconvert_exporter": "python",
   "pygments_lexer": "ipython3",
   "version": "3.10.0"
  },
  "orig_nbformat": 4
 },
 "nbformat": 4,
 "nbformat_minor": 2
}
